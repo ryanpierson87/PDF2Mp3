{
 "cells": [
  {
   "cell_type": "code",
   "execution_count": 20,
   "metadata": {},
   "outputs": [
    {
     "data": {
      "text/plain": [
       "32512"
      ]
     },
     "execution_count": 20,
     "metadata": {},
     "output_type": "execute_result"
    }
   ],
   "source": [
    "from gtts import gTTS\n",
    "from tika import parser\n",
    "import os\n",
    "\n",
    "# This gets the text from a pdf\n",
    "raw = parser.from_file('Example_PDF.pdf')\n",
    "print(raw['content'])\n",
    "\n",
    "#This converts to audio file\n",
    "tts = gTTS(text=raw['content'], lang='en')\n",
    "tts.save(\"test_audio.mp3\")\n",
    "os.system(\"mpg321.good.mp3\")"
   ]
  }
 ],
 "metadata": {
  "kernelspec": {
   "display_name": "Python 3",
   "language": "python",
   "name": "python3"
  },
  "language_info": {
   "codemirror_mode": {
    "name": "ipython",
    "version": 3
   },
   "file_extension": ".py",
   "mimetype": "text/x-python",
   "name": "python",
   "nbconvert_exporter": "python",
   "pygments_lexer": "ipython3",
   "version": "3.7.1"
  }
 },
 "nbformat": 4,
 "nbformat_minor": 2
}
